{
 "cells": [
  {
   "cell_type": "markdown",
   "metadata": {},
   "source": [
    "# Phase II - Preprocessing and Supervised Learning with CERT Dataset"
   ]
  },
  {
   "cell_type": "markdown",
   "metadata": {},
   "source": [
    "## A. Preprocessing and Exploratory Analysis"
   ]
  },
  {
   "cell_type": "code",
   "execution_count": 1,
   "metadata": {},
   "outputs": [],
   "source": [
    "#Load necessary libraries.\n",
    "from pyspark import SparkContext\n",
    "from pyspark.sql import SparkSession\n",
    "from pyspark.sql import SQLContext\n",
    "from pyspark.sql import functions as F\n",
    "from pyspark.sql.types import TimestampType\n",
    "from pyspark.sql.types import StringType\n",
    "from pyspark.sql.functions import *\n",
    "from pyspark_dist_explore import hist\n",
    "from handyspark import *\n",
    "import pandas as pd\n",
    "from pandas.api.types import CategoricalDtype\n",
    "import numpy as np\n",
    "import tensorflow as tf\n",
    "from tensorflow import feature_column\n",
    "from tensorflow.keras import layers\n",
    "import keras\n",
    "from sklearn.model_selection import train_test_split\n",
    "import matplotlib.pyplot as plt"
   ]
  },
  {
   "cell_type": "code",
   "execution_count": 2,
   "metadata": {},
   "outputs": [
    {
     "data": {
      "text/html": [
       "\n",
       "        <div>\n",
       "            <p><b>SparkContext</b></p>\n",
       "\n",
       "            <p><a href=\"http://192.168.1.13:4040\">Spark UI</a></p>\n",
       "\n",
       "            <dl>\n",
       "              <dt>Version</dt>\n",
       "                <dd><code>v3.0.0</code></dd>\n",
       "              <dt>Master</dt>\n",
       "                <dd><code>local[*]</code></dd>\n",
       "              <dt>AppName</dt>\n",
       "                <dd><code>pyspark-shell</code></dd>\n",
       "            </dl>\n",
       "        </div>\n",
       "        "
      ],
      "text/plain": [
       "<SparkContext master=local[*] appName=pyspark-shell>"
      ]
     },
     "execution_count": 2,
     "metadata": {},
     "output_type": "execute_result"
    }
   ],
   "source": [
    "#Load Spark Context and print it.\n",
    "sc = SparkContext()\n",
    "sc"
   ]
  },
  {
   "cell_type": "code",
   "execution_count": 3,
   "metadata": {},
   "outputs": [],
   "source": [
    "#Create SQL Context\n",
    "spark = SparkSession.builder.getOrCreate\n",
    "sqlContext = SQLContext(sc)"
   ]
  },
  {
   "cell_type": "code",
   "execution_count": 4,
   "metadata": {},
   "outputs": [
    {
     "name": "stdout",
     "output_type": "stream",
     "text": [
      "+-------+--------+------------------+-------+-------------------+-------------------+\n",
      "|dataset|scenario|           details|   user|              start|                end|\n",
      "+-------+--------+------------------+-------+-------------------+-------------------+\n",
      "|      2|       1|            r2.csv|ONS0995|   3/6/2010 1:41:56|  3/20/2010 8:10:12|\n",
      "|    3.1|       1|        r3.1-1.csv|CSF0929|07/01/2010 01:24:58|07/16/2010 06:52:00|\n",
      "|    3.1|       2|        r3.1-2.csv|CCH0959|08/02/2010 10:34:31|09/30/2010 15:04:03|\n",
      "|    3.2|       1|        r3.2-1.csv|RCW0822|09/29/2010 21:10:27|10/15/2010 06:34:52|\n",
      "|    3.2|       2|        r3.2-2.csv|JCE0258|07/12/2010 08:16:02|09/03/2010 16:16:29|\n",
      "|    4.1|       1|        r4.1-1.csv|ABB0427|08/21/2010 05:20:34|08/27/2010 05:39:51|\n",
      "|    4.1|       2|        r4.1-2.csv|HFC0492|08/23/2010 10:40:56|10/14/2010 17:11:42|\n",
      "|    4.1|       3|        r4.1-3.csv|KTW0365|07/08/2010 11:51:00|07/09/2010 20:54:16|\n",
      "|    4.2|       1|r4.2-1-AAM0658.csv|AAM0658|10/23/2010 01:34:19|10/29/2010 05:23:28|\n",
      "|    4.2|       1|r4.2-1-AJR0932.csv|AJR0932|09/10/2010 19:12:01|09/18/2010 02:02:51|\n",
      "|    4.2|       1|r4.2-1-BDV0168.csv|BDV0168|07/30/2010 19:56:44|08/10/2010 05:16:41|\n",
      "|    4.2|       1|r4.2-1-BIH0745.csv|BIH0745|07/13/2010 20:15:23|07/13/2010 21:20:44|\n",
      "|    4.2|       1|r4.2-1-BLS0678.csv|BLS0678|09/21/2010 01:16:22|09/30/2010 04:48:19|\n",
      "|    4.2|       1|r4.2-1-BTL0226.csv|BTL0226|10/06/2010 22:25:52|10/14/2010 06:43:29|\n",
      "|    4.2|       1|r4.2-1-CAH0936.csv|CAH0936|08/11/2010 04:00:08|08/12/2010 23:56:19|\n",
      "|    4.2|       1|r4.2-1-DCH0843.csv|DCH0843|02/04/2011 07:08:00|02/04/2011 07:36:05|\n",
      "|    4.2|       1|r4.2-1-EHB0824.csv|EHB0824|07/22/2010 21:48:43|07/29/2010 01:08:41|\n",
      "|    4.2|       1|r4.2-1-EHD0584.csv|EHD0584|10/02/2010 03:46:16|10/08/2010 22:26:26|\n",
      "|    4.2|       1|r4.2-1-FMG0527.csv|FMG0527|01/05/2011 21:53:29|01/12/2011 01:15:35|\n",
      "|    4.2|       1|r4.2-1-FTM0406.csv|FTM0406|11/25/2010 06:35:11|12/02/2010 00:35:19|\n",
      "+-------+--------+------------------+-------+-------------------+-------------------+\n",
      "only showing top 20 rows\n",
      "\n"
     ]
    }
   ],
   "source": [
    "#Load the true positives data.\n",
    "true_positives = \"Documents/CERT_DATA/answers/insiders.csv\"\n",
    "true_positives_dfs = sqlContext.read.format('com.databricks.spark.csv').options(header='true').load(true_positives)\n",
    "true_positives_dfs.show()"
   ]
  },
  {
   "cell_type": "markdown",
   "metadata": {},
   "source": [
    "I will only sample scenario 2 described in scenarios.csv as:\n",
    "\"User begins surfing job websites and soliciting employment from a competitor. Before leaving the company, they use a thumb drive (at markedly higher rates than their previous activity) to steal data.\""
   ]
  },
  {
   "cell_type": "code",
   "execution_count": 5,
   "metadata": {},
   "outputs": [
    {
     "name": "stdout",
     "output_type": "stream",
     "text": [
      "+--------+------------------+\n",
      "|scenario|           details|\n",
      "+--------+------------------+\n",
      "|       2|        r3.1-2.csv|\n",
      "|       2|        r3.2-2.csv|\n",
      "|       2|        r4.1-2.csv|\n",
      "|       2|r4.2-2-AAF0535.csv|\n",
      "|       2|r4.2-2-ABC0174.csv|\n",
      "|       2|r4.2-2-AKR0057.csv|\n",
      "|       2|r4.2-2-CCL0068.csv|\n",
      "|       2|r4.2-2-CEJ0109.csv|\n",
      "|       2|r4.2-2-CQW0652.csv|\n",
      "|       2|r4.2-2-DIB0285.csv|\n",
      "|       2|r4.2-2-DRR0162.csv|\n",
      "|       2|r4.2-2-EDB0714.csv|\n",
      "|       2|r4.2-2-EGD0132.csv|\n",
      "|       2|r4.2-2-FSC0601.csv|\n",
      "|       2|r4.2-2-HBO0413.csv|\n",
      "|       2|r4.2-2-HXL0968.csv|\n",
      "|       2|r4.2-2-IJM0776.csv|\n",
      "|       2|r4.2-2-IKR0401.csv|\n",
      "|       2|r4.2-2-IUB0565.csv|\n",
      "|       2|r4.2-2-JJM0203.csv|\n",
      "+--------+------------------+\n",
      "only showing top 20 rows\n",
      "\n"
     ]
    }
   ],
   "source": [
    "#Filter out the rows and columns I am interested in.\n",
    "true_positives_dfs = true_positives_dfs.select('scenario','details').orderBy(true_positives_dfs.details)\n",
    "true_positives_dfs_2 = true_positives_dfs.filter(true_positives_dfs.scenario == 2)\n",
    "true_positives_dfs_2.show()"
   ]
  },
  {
   "cell_type": "code",
   "execution_count": 6,
   "metadata": {},
   "outputs": [
    {
     "name": "stdout",
     "output_type": "stream",
     "text": [
      "cat r3.1-2.csv r3.2-2.csv r4.1-2.csv r4.2-2-AAF0535.csv r4.2-2-ABC0174.csv r4.2-2-AKR0057.csv r4.2-2-CCL0068.csv r4.2-2-CEJ0109.csv r4.2-2-CQW0652.csv r4.2-2-DIB0285.csv r4.2-2-DRR0162.csv r4.2-2-EDB0714.csv r4.2-2-EGD0132.csv r4.2-2-FSC0601.csv r4.2-2-HBO0413.csv r4.2-2-HXL0968.csv r4.2-2-IJM0776.csv r4.2-2-IKR0401.csv r4.2-2-IUB0565.csv r4.2-2-JJM0203.csv r4.2-2-KRL0501.csv r4.2-2-LCC0819.csv r4.2-2-MDH0580.csv r4.2-2-MOS0047.csv r4.2-2-NWT0098.csv r4.2-2-PNL0301.csv r4.2-2-PSF0133.csv r4.2-2-RAR0725.csv r4.2-2-RHL0992.csv r4.2-2-RMW0542.csv r4.2-2-TNM0961.csv r4.2-2-VSS0154.csv r4.2-2-XHW0498.csv r5.1-2.csv r5.2-2-BYO1846.csv r5.2-2-CHP1711.csv r5.2-2-CIF1430.csv r5.2-2-CKP0630.csv r5.2-2-DCC1119.csv r5.2-2-GWG0497.csv r5.2-2-HIS1394.csv r5.2-2-HMS1658.csv r5.2-2-HSN0675.csv r5.2-2-HXP0976.csv r5.2-2-ICB1354.csv r5.2-2-ITA0159.csv r5.2-2-JAL0811.csv r5.2-2-KSS1005.csv r5.2-2-LVF1626.csv r5.2-2-MCP0611.csv r5.2-2-MDS0680.csv r5.2-2-MGB1235.csv r5.2-2-NAH1366.csv r5.2-2-OKM1092.csv r5.2-2-OSS1463.csv r5.2-2-RRS0056.csv r5.2-2-SIS0042.csv r5.2-2-SNK1280.csv r5.2-2-TMT0851.csv r5.2-2-TNB1616.csv r5.2-2-TRC1838.csv r5.2-2-VCF1602.csv r5.2-2-WDT1634.csv r5.2-2-ZIE0741.csv r6.1-2.csv r6.2-2.csv> scenario_2.csv\n"
     ]
    }
   ],
   "source": [
    "#Generate a linux script to combine true positives for scenario 2 to avoid having to manually type it.\n",
    "files_2 = true_positives_dfs_2.select(F.col('details')).toPandas()\n",
    "files_list = files_2['details'].tolist()\n",
    "\n",
    "string = \"cat\"\n",
    "for file in files_list:\n",
    "    string = string + \" \" + file\n",
    "print(string + '> scenario_2.csv')"
   ]
  },
  {
   "cell_type": "markdown",
   "metadata": {},
   "source": [
    "Next I created a subset of true negativves that is approximately equal to true positive set.\n",
    "I then merged both sets in a linux shell using the script above, added a label column and encoded categorical values."
   ]
  },
  {
   "cell_type": "code",
   "execution_count": 7,
   "metadata": {},
   "outputs": [
    {
     "name": "stdout",
     "output_type": "stream",
     "text": [
      "+------+-------+--------------------+-------------------+-------+-------+--------------------+--------------------+--------------------+--------------------+--------------------+--------------------+--------------------+--------------------+--------------------+--------------------+--------------------+----+----+----+----+----+----+----+\n",
      "|vector|insider|                  id|               date|   user| source|              action|                  cc|                 bcc|                from|            activity|                size|         attachments|             content|                _c14|                _c15|                _c16|_c17|_c18|_c19|_c20|_c21|_c22|_c23|\n",
      "+------+-------+--------------------+-------------------+-------+-------+--------------------+--------------------+--------------------+--------------------+--------------------+--------------------+--------------------+--------------------+--------------------+--------------------+--------------------+----+----+----+----+----+----+----+\n",
      "| email|      0|{N9X0-P3SX99UT-36...|01/02/2010 06:49:35|KMC1934|PC-2683|Harding.Alden.Les...|Ora.Clementine.Le...|Remedios.Kylynn.W...|Hamilton.Palmer.C...|Karina.Melanie.Co...|Karina.Melanie.Co...|                Send|               22578|                null|lost six speculat...|                null|null|null|null|null|null|null|null|\n",
      "| email|      0|{F5G8-U4KL36AB-15...|01/02/2010 06:50:35|KMC1934|PC-2683|Harding.Alden.Les...|Ora.Clementine.Le...|Remedios.Kylynn.W...|Hamilton.Palmer.C...|                null|Karina.Melanie.Co...|             Receive|               22578|                null|lost six speculat...|                null|null|null|null|null|null|null|null|\n",
      "| email|      0|{U8D2-M5FH65BW-39...|01/02/2010 06:53:37|KMC1934|PC-2683|Griffith.Xenos.Mi...|Karina.Melanie.Co...|                null|Karina.Melanie.Co...|                Send|               34569|                null|examples losing b...|                null|                null|                null|null|null|null|null|null|null|null|\n",
      "| email|      0|{A5X6-X3KN62LU-58...|01/02/2010 06:53:46|KMC1934|PC-2683|Mechelle.Nicole.M...|                null|Karina.Melanie.Co...|Karina.Melanie.Co...|                Send|               33953|                null|coldest slowed 19...|                null|                null|                null|null|null|null|null|null|null|null|\n",
      "| email|      0|{Q8R5-A2WJ20NG-91...|01/02/2010 06:54:33|KMC1934|PC-2683|Mechelle.Nicole.M...|Karina.Melanie.Co...|                null|Karina.Melanie.Co...|                Send|             3116485|   movie.jpg(330094)|postmodern.pdf(19...| athlete.doc(774956)|sixth former spee...|                null|null|null|null|null|null|null|null|\n",
      "| email|      0|{H6Z8-D4DO31VN-19...|01/02/2010 06:54:37|KMC1934|PC-2683|Griffith.Xenos.Mi...|Karina.Melanie.Co...|                null|Karina.Melanie.Co...|             Receive|               34569|                null|examples losing b...|                null|                null|                null|null|null|null|null|null|null|null|\n",
      "| email|      0|{S6S2-U4KM07MU-04...|01/02/2010 06:54:46|KMC1934|PC-2683|Mechelle.Nicole.M...|                null|                null|Karina.Melanie.Co...|             Receive|               33953|                null|coldest slowed 19...|                null|                null|                null|null|null|null|null|null|null|null|\n",
      "| email|      0|{D5Y7-N8WT17RZ-69...|01/02/2010 06:55:33|KMC1934|PC-2683|Mechelle.Nicole.M...|Karina.Melanie.Co...|                null|Karina.Melanie.Co...|             Receive|             3116485|   movie.jpg(330094)|postmodern.pdf(19...| athlete.doc(774956)|sixth former spee...|                null|null|null|null|null|null|null|null|\n",
      "| email|      0|{K3R4-M9ON71VM-36...|01/02/2010 06:58:53|KMC1934|PC-2683|Griffith.Xenos.Mi...|Preston.Charles.B...|Karina.Melanie.Co...|                null|Karina.Melanie.Co...|                Send|               17591|                null|decision winner f...|                null|                null|null|null|null|null|null|null|null|\n",
      "| email|      0|{X9S4-E5AM60QL-35...|01/02/2010 06:59:17|KMC1934|PC-2683|Yolanda.Belle.Hob...|Shelly.Laura.Cox@...|Burke.Barry.Hendr...|John.Dieter.Joyne...|Kirk.Omar.Lewis@d...|Karina.Melanie.Co...|Karina.Melanie.Co...|                Send|               36782|                null|5 twin naturally ...|null|null|null|null|null|null|null|\n",
      "| email|      0|{I5O6-L8YC61LN-77...|01/02/2010 06:59:53|KMC1934|PC-2683|Griffith.Xenos.Mi...|Preston.Charles.B...|Karina.Melanie.Co...|                null|Karina.Melanie.Co...|             Receive|               17591|                null|decision winner f...|                null|                null|null|null|null|null|null|null|null|\n",
      "| email|      0|{G1M2-E2RD56WF-82...|01/02/2010 07:00:02|PMB1928|PC-0026|Destiny_I_Berg@gm...|LAF786@earthlink.net| MGS7353@charter.net|Rhona_M_Kennedy@o...|Preston_M_Burns@g...|                Send|               19386|                null|passage devastate...|                null|                null|null|null|null|null|null|null|null|\n",
      "| email|      0|{F1M4-K3OC11BI-88...|01/02/2010 07:00:17|KMC1934|PC-2683|Yolanda.Belle.Hob...|Shelly.Laura.Cox@...|Burke.Barry.Hendr...|John.Dieter.Joyne...|Kirk.Omar.Lewis@d...|                null|Karina.Melanie.Co...|             Receive|               36782|                null|5 twin naturally ...|null|null|null|null|null|null|null|\n",
      "| email|      0|{I7V9-P0KQ65SH-52...|01/02/2010 07:00:21|PMB1928|PC-0026|   CLZ12@charter.net|Rhona_M_Kennedy@o...|                null|Preston_M_Burns@g...|                Send|               27178|                null|one emergency int...|                null|                null|                null|null|null|null|null|null|null|null|\n",
      "| email|      0|{Q9Q9-M5SE19IE-05...|01/02/2010 07:00:27|PMB1928|PC-0026|   CLZ12@charter.net|Rhona_M_Kennedy@o...|                null|Preston_M_Burns@g...|                Send|              875265|relative.pdf(849719)|intervals treatme...|                null|                null|                null|null|null|null|null|null|null|null|\n",
      "| email|      0|{A3K2-K7SZ30AR-82...|01/02/2010 07:00:33|PMB1928|PC-0026| WYG1952@verizon.net|Rhona_M_Kennedy@o...|                null|Preston_M_Burns@g...|                Send|             4179520|    ten.exe(1428944)|nukualofa.txt(359...|      1.exe(1612821)|northwest.jpg(749...|2 nukualofa 6 for...|null|null|null|null|null|null|null|\n",
      "| email|      0|{T5L8-L0YV32EL-22...|01/02/2010 07:00:35|PMB1928|PC-0026|Lewis-Kirk@yahoo.com|                null|Rhona_M_Kennedy@o...|Preston_M_Burns@g...|                Send|               32328|                null|19 throughout eva...|                null|                null|                null|null|null|null|null|null|null|null|\n",
      "| email|      0|{H1Q7-J0QF92DK-91...|01/02/2010 07:00:36|PMB1928|PC-0026|Lael.Shaine.Conne...|Marvin.Abdul.Wong...|Gareth.Scott.Alva...|                null|Rhona.Maite.Kenne...|Preston.Michael.B...|                Send|               19122|                null|were become sente...|                null|null|null|null|null|null|null|null|\n",
      "| email|      0|{Z9S8-D1VC82QF-98...|01/02/2010 07:00:40|PMB1928|PC-0026|Yen_Woodward@comc...|Russell-Jonah@cha...|                null|Rhona_M_Kennedy@o...|Preston_M_Burns@g...|                Send|              907221|      al.jpg(523170)|    open.doc(340478)|lost other broke ...|                null|null|null|null|null|null|null|null|\n",
      "| email|      0|{G8I6-X7GE97HW-78...|01/02/2010 07:01:13|PMB1928|PC-0026|Rhona_M_Kennedy@o...|                null|                null|Preston_M_Burns@g...|                Send|               19615|                null|lying 155 venture...|                null|                null|                null|null|null|null|null|null|null|null|\n",
      "+------+-------+--------------------+-------------------+-------+-------+--------------------+--------------------+--------------------+--------------------+--------------------+--------------------+--------------------+--------------------+--------------------+--------------------+--------------------+----+----+----+----+----+----+----+\n",
      "only showing top 20 rows\n",
      "\n"
     ]
    }
   ],
   "source": [
    "#Next step is to create a DataFrame out of the resulting set and perforn some data wrangling.\n",
    "df_all = sqlContext.read.format('com.databricks.spark.csv').options(header='true').load('Documents/CERT_DATA/r5.2/all_reduced.csv')\n",
    "df_all.show()"
   ]
  },
  {
   "cell_type": "code",
   "execution_count": 8,
   "metadata": {},
   "outputs": [
    {
     "data": {
      "text/html": [
       "<div>\n",
       "<style scoped>\n",
       "    .dataframe tbody tr th:only-of-type {\n",
       "        vertical-align: middle;\n",
       "    }\n",
       "\n",
       "    .dataframe tbody tr th {\n",
       "        vertical-align: top;\n",
       "    }\n",
       "\n",
       "    .dataframe thead th {\n",
       "        text-align: right;\n",
       "    }\n",
       "</style>\n",
       "<table border=\"1\" class=\"dataframe\">\n",
       "  <thead>\n",
       "    <tr style=\"text-align: right;\">\n",
       "      <th></th>\n",
       "      <th>vector</th>\n",
       "      <th>insider</th>\n",
       "      <th>id</th>\n",
       "      <th>date</th>\n",
       "      <th>user</th>\n",
       "      <th>source</th>\n",
       "      <th>action</th>\n",
       "      <th>cc</th>\n",
       "      <th>bcc</th>\n",
       "      <th>from</th>\n",
       "      <th>...</th>\n",
       "      <th>_c14</th>\n",
       "      <th>_c15</th>\n",
       "      <th>_c16</th>\n",
       "      <th>_c17</th>\n",
       "      <th>_c18</th>\n",
       "      <th>_c19</th>\n",
       "      <th>_c20</th>\n",
       "      <th>_c21</th>\n",
       "      <th>_c22</th>\n",
       "      <th>_c23</th>\n",
       "    </tr>\n",
       "  </thead>\n",
       "  <tbody>\n",
       "    <tr>\n",
       "      <th>0</th>\n",
       "      <td>email</td>\n",
       "      <td>0</td>\n",
       "      <td>{N9X0-P3SX99UT-3623QQUN}</td>\n",
       "      <td>01/02/2010 06:49:35</td>\n",
       "      <td>KMC1934</td>\n",
       "      <td>PC-2683</td>\n",
       "      <td>Harding.Alden.Lester@dtaa.com</td>\n",
       "      <td>Ora.Clementine.Lester@dtaa.com</td>\n",
       "      <td>Remedios.Kylynn.Weaver@dtaa.com</td>\n",
       "      <td>Hamilton.Palmer.Cortez@dtaa.com</td>\n",
       "      <td>...</td>\n",
       "      <td>None</td>\n",
       "      <td>lost six speculated individual theoren in onta...</td>\n",
       "      <td>None</td>\n",
       "      <td>None</td>\n",
       "      <td>None</td>\n",
       "      <td>None</td>\n",
       "      <td>None</td>\n",
       "      <td>None</td>\n",
       "      <td>None</td>\n",
       "      <td>None</td>\n",
       "    </tr>\n",
       "    <tr>\n",
       "      <th>1</th>\n",
       "      <td>email</td>\n",
       "      <td>0</td>\n",
       "      <td>{F5G8-U4KL36AB-1579CZGX}</td>\n",
       "      <td>01/02/2010 06:50:35</td>\n",
       "      <td>KMC1934</td>\n",
       "      <td>PC-2683</td>\n",
       "      <td>Harding.Alden.Lester@dtaa.com</td>\n",
       "      <td>Ora.Clementine.Lester@dtaa.com</td>\n",
       "      <td>Remedios.Kylynn.Weaver@dtaa.com</td>\n",
       "      <td>Hamilton.Palmer.Cortez@dtaa.com</td>\n",
       "      <td>...</td>\n",
       "      <td>None</td>\n",
       "      <td>lost six speculated individual theoren in onta...</td>\n",
       "      <td>None</td>\n",
       "      <td>None</td>\n",
       "      <td>None</td>\n",
       "      <td>None</td>\n",
       "      <td>None</td>\n",
       "      <td>None</td>\n",
       "      <td>None</td>\n",
       "      <td>None</td>\n",
       "    </tr>\n",
       "    <tr>\n",
       "      <th>2</th>\n",
       "      <td>email</td>\n",
       "      <td>0</td>\n",
       "      <td>{U8D2-M5FH65BW-3939CQIC}</td>\n",
       "      <td>01/02/2010 06:53:37</td>\n",
       "      <td>KMC1934</td>\n",
       "      <td>PC-2683</td>\n",
       "      <td>Griffith.Xenos.Miles@dtaa.com</td>\n",
       "      <td>Karina.Melanie.Collins@dtaa.com</td>\n",
       "      <td>None</td>\n",
       "      <td>Karina.Melanie.Collins@dtaa.com</td>\n",
       "      <td>...</td>\n",
       "      <td>None</td>\n",
       "      <td>None</td>\n",
       "      <td>None</td>\n",
       "      <td>None</td>\n",
       "      <td>None</td>\n",
       "      <td>None</td>\n",
       "      <td>None</td>\n",
       "      <td>None</td>\n",
       "      <td>None</td>\n",
       "      <td>None</td>\n",
       "    </tr>\n",
       "    <tr>\n",
       "      <th>3</th>\n",
       "      <td>email</td>\n",
       "      <td>0</td>\n",
       "      <td>{A5X6-X3KN62LU-5816QTBZ}</td>\n",
       "      <td>01/02/2010 06:53:46</td>\n",
       "      <td>KMC1934</td>\n",
       "      <td>PC-2683</td>\n",
       "      <td>Mechelle.Nicole.Miles@dtaa.com</td>\n",
       "      <td>None</td>\n",
       "      <td>Karina.Melanie.Collins@dtaa.com</td>\n",
       "      <td>Karina.Melanie.Collins@dtaa.com</td>\n",
       "      <td>...</td>\n",
       "      <td>None</td>\n",
       "      <td>None</td>\n",
       "      <td>None</td>\n",
       "      <td>None</td>\n",
       "      <td>None</td>\n",
       "      <td>None</td>\n",
       "      <td>None</td>\n",
       "      <td>None</td>\n",
       "      <td>None</td>\n",
       "      <td>None</td>\n",
       "    </tr>\n",
       "    <tr>\n",
       "      <th>4</th>\n",
       "      <td>email</td>\n",
       "      <td>0</td>\n",
       "      <td>{Q8R5-A2WJ20NG-9108MVZX}</td>\n",
       "      <td>01/02/2010 06:54:33</td>\n",
       "      <td>KMC1934</td>\n",
       "      <td>PC-2683</td>\n",
       "      <td>Mechelle.Nicole.Miles@dtaa.com</td>\n",
       "      <td>Karina.Melanie.Collins@dtaa.com</td>\n",
       "      <td>None</td>\n",
       "      <td>Karina.Melanie.Collins@dtaa.com</td>\n",
       "      <td>...</td>\n",
       "      <td>athlete.doc(774956)</td>\n",
       "      <td>sixth former speed athlete annual automotive s...</td>\n",
       "      <td>None</td>\n",
       "      <td>None</td>\n",
       "      <td>None</td>\n",
       "      <td>None</td>\n",
       "      <td>None</td>\n",
       "      <td>None</td>\n",
       "      <td>None</td>\n",
       "      <td>None</td>\n",
       "    </tr>\n",
       "  </tbody>\n",
       "</table>\n",
       "<p>5 rows × 24 columns</p>\n",
       "</div>"
      ],
      "text/plain": [
       "  vector insider                        id                 date     user  \\\n",
       "0  email       0  {N9X0-P3SX99UT-3623QQUN}  01/02/2010 06:49:35  KMC1934   \n",
       "1  email       0  {F5G8-U4KL36AB-1579CZGX}  01/02/2010 06:50:35  KMC1934   \n",
       "2  email       0  {U8D2-M5FH65BW-3939CQIC}  01/02/2010 06:53:37  KMC1934   \n",
       "3  email       0  {A5X6-X3KN62LU-5816QTBZ}  01/02/2010 06:53:46  KMC1934   \n",
       "4  email       0  {Q8R5-A2WJ20NG-9108MVZX}  01/02/2010 06:54:33  KMC1934   \n",
       "\n",
       "    source                          action                               cc  \\\n",
       "0  PC-2683   Harding.Alden.Lester@dtaa.com   Ora.Clementine.Lester@dtaa.com   \n",
       "1  PC-2683   Harding.Alden.Lester@dtaa.com   Ora.Clementine.Lester@dtaa.com   \n",
       "2  PC-2683   Griffith.Xenos.Miles@dtaa.com  Karina.Melanie.Collins@dtaa.com   \n",
       "3  PC-2683  Mechelle.Nicole.Miles@dtaa.com                             None   \n",
       "4  PC-2683  Mechelle.Nicole.Miles@dtaa.com  Karina.Melanie.Collins@dtaa.com   \n",
       "\n",
       "                               bcc                             from  ...  \\\n",
       "0  Remedios.Kylynn.Weaver@dtaa.com  Hamilton.Palmer.Cortez@dtaa.com  ...   \n",
       "1  Remedios.Kylynn.Weaver@dtaa.com  Hamilton.Palmer.Cortez@dtaa.com  ...   \n",
       "2                             None  Karina.Melanie.Collins@dtaa.com  ...   \n",
       "3  Karina.Melanie.Collins@dtaa.com  Karina.Melanie.Collins@dtaa.com  ...   \n",
       "4                             None  Karina.Melanie.Collins@dtaa.com  ...   \n",
       "\n",
       "                  _c14                                               _c15  \\\n",
       "0                 None  lost six speculated individual theoren in onta...   \n",
       "1                 None  lost six speculated individual theoren in onta...   \n",
       "2                 None                                               None   \n",
       "3                 None                                               None   \n",
       "4  athlete.doc(774956)  sixth former speed athlete annual automotive s...   \n",
       "\n",
       "   _c16  _c17  _c18  _c19  _c20  _c21  _c22  _c23  \n",
       "0  None  None  None  None  None  None  None  None  \n",
       "1  None  None  None  None  None  None  None  None  \n",
       "2  None  None  None  None  None  None  None  None  \n",
       "3  None  None  None  None  None  None  None  None  \n",
       "4  None  None  None  None  None  None  None  None  \n",
       "\n",
       "[5 rows x 24 columns]"
      ]
     },
     "execution_count": 8,
     "metadata": {},
     "output_type": "execute_result"
    }
   ],
   "source": [
    "#Make it more easy to look at with Pandas.\n",
    "pd_df_all = df_all.toPandas()\n",
    "pd_df_all.head()"
   ]
  },
  {
   "cell_type": "code",
   "execution_count": 9,
   "metadata": {},
   "outputs": [
    {
     "name": "stdout",
     "output_type": "stream",
     "text": [
      "root\n",
      " |-- vector: string (nullable = true)\n",
      " |-- insider: string (nullable = true)\n",
      " |-- id: string (nullable = true)\n",
      " |-- date: string (nullable = true)\n",
      " |-- user: string (nullable = true)\n",
      " |-- source: string (nullable = true)\n",
      " |-- action: string (nullable = true)\n",
      " |-- cc: string (nullable = true)\n",
      " |-- bcc: string (nullable = true)\n",
      " |-- from: string (nullable = true)\n",
      " |-- activity: string (nullable = true)\n",
      " |-- size: string (nullable = true)\n",
      " |-- attachments: string (nullable = true)\n",
      " |-- content: string (nullable = true)\n",
      " |-- _c14: string (nullable = true)\n",
      " |-- _c15: string (nullable = true)\n",
      " |-- _c16: string (nullable = true)\n",
      " |-- _c17: string (nullable = true)\n",
      " |-- _c18: string (nullable = true)\n",
      " |-- _c19: string (nullable = true)\n",
      " |-- _c20: string (nullable = true)\n",
      " |-- _c21: string (nullable = true)\n",
      " |-- _c22: string (nullable = true)\n",
      " |-- _c23: string (nullable = true)\n",
      "\n"
     ]
    }
   ],
   "source": [
    "#Check out the schema\n",
    "df_all.printSchema()"
   ]
  },
  {
   "cell_type": "code",
   "execution_count": 10,
   "metadata": {},
   "outputs": [
    {
     "name": "stdout",
     "output_type": "stream",
     "text": [
      "+------+-------+--------------------+-------------------+-------+-------+--------------------+\n",
      "|vector|insider|                  id|               date|   user| source|              action|\n",
      "+------+-------+--------------------+-------------------+-------+-------+--------------------+\n",
      "|     1|      0|{N9X0-P3SX99UT-36...|2010-01-02 06:49:35|KMC1934|PC-2683|Harding.Alden.Les...|\n",
      "|     1|      0|{F5G8-U4KL36AB-15...|2010-01-02 06:50:35|KMC1934|PC-2683|Harding.Alden.Les...|\n",
      "|     1|      0|{U8D2-M5FH65BW-39...|2010-01-02 06:53:37|KMC1934|PC-2683|Griffith.Xenos.Mi...|\n",
      "|     1|      0|{A5X6-X3KN62LU-58...|2010-01-02 06:53:46|KMC1934|PC-2683|Mechelle.Nicole.M...|\n",
      "|     1|      0|{Q8R5-A2WJ20NG-91...|2010-01-02 06:54:33|KMC1934|PC-2683|Mechelle.Nicole.M...|\n",
      "|     1|      0|{H6Z8-D4DO31VN-19...|2010-01-02 06:54:37|KMC1934|PC-2683|Griffith.Xenos.Mi...|\n",
      "|     1|      0|{S6S2-U4KM07MU-04...|2010-01-02 06:54:46|KMC1934|PC-2683|Mechelle.Nicole.M...|\n",
      "|     1|      0|{D5Y7-N8WT17RZ-69...|2010-01-02 06:55:33|KMC1934|PC-2683|Mechelle.Nicole.M...|\n",
      "|     1|      0|{K3R4-M9ON71VM-36...|2010-01-02 06:58:53|KMC1934|PC-2683|Griffith.Xenos.Mi...|\n",
      "|     1|      0|{X9S4-E5AM60QL-35...|2010-01-02 06:59:17|KMC1934|PC-2683|Yolanda.Belle.Hob...|\n",
      "|     1|      0|{I5O6-L8YC61LN-77...|2010-01-02 06:59:53|KMC1934|PC-2683|Griffith.Xenos.Mi...|\n",
      "|     1|      0|{G1M2-E2RD56WF-82...|2010-01-02 07:00:02|PMB1928|PC-0026|Destiny_I_Berg@gm...|\n",
      "|     1|      0|{F1M4-K3OC11BI-88...|2010-01-02 07:00:17|KMC1934|PC-2683|Yolanda.Belle.Hob...|\n",
      "|     1|      0|{I7V9-P0KQ65SH-52...|2010-01-02 07:00:21|PMB1928|PC-0026|   CLZ12@charter.net|\n",
      "|     1|      0|{Q9Q9-M5SE19IE-05...|2010-01-02 07:00:27|PMB1928|PC-0026|   CLZ12@charter.net|\n",
      "|     1|      0|{A3K2-K7SZ30AR-82...|2010-01-02 07:00:33|PMB1928|PC-0026| WYG1952@verizon.net|\n",
      "|     1|      0|{T5L8-L0YV32EL-22...|2010-01-02 07:00:35|PMB1928|PC-0026|Lewis-Kirk@yahoo.com|\n",
      "|     1|      0|{H1Q7-J0QF92DK-91...|2010-01-02 07:00:36|PMB1928|PC-0026|Lael.Shaine.Conne...|\n",
      "|     1|      0|{Z9S8-D1VC82QF-98...|2010-01-02 07:00:40|PMB1928|PC-0026|Yen_Woodward@comc...|\n",
      "|     1|      0|{G8I6-X7GE97HW-78...|2010-01-02 07:01:13|PMB1928|PC-0026|Rhona_M_Kennedy@o...|\n",
      "+------+-------+--------------------+-------------------+-------+-------+--------------------+\n",
      "only showing top 20 rows\n",
      "\n",
      "root\n",
      " |-- vector: integer (nullable = true)\n",
      " |-- insider: integer (nullable = true)\n",
      " |-- id: string (nullable = true)\n",
      " |-- date: timestamp (nullable = true)\n",
      " |-- user: string (nullable = true)\n",
      " |-- source: string (nullable = true)\n",
      " |-- action: string (nullable = true)\n",
      "\n"
     ]
    }
   ],
   "source": [
    "#First, encode categorical columns and convert date to a timestamp format\n",
    "df_all = df_all.withColumn('vector', translate('vector', 'http', '0'))\n",
    "df_all = df_all.withColumn('vector', translate('vector', 'email', '1'))\n",
    "df_all = df_all.withColumn('vector', translate('vector', 'device', '2'))\n",
    "df_all = df_all.withColumn('vector', df_all.vector.cast('integer'))\n",
    "df_all = df_all.withColumn('insider', df_all.insider.cast('integer'))\n",
    "df_all = df_all.withColumn('date', from_unixtime(unix_timestamp('date', 'MM/dd/yyy hh:mm:ss')).cast(TimestampType()))\n",
    "\n",
    "#Next get rid of miscellaneous columns and check out the result and schema\n",
    "df_all_reduced = df_all.select('vector', 'insider', 'id', 'date', 'user', 'source', 'action')\n",
    "df_all_reduced.show()\n",
    "df_all_reduced.printSchema()"
   ]
  },
  {
   "cell_type": "code",
   "execution_count": 11,
   "metadata": {},
   "outputs": [
    {
     "data": {
      "text/html": [
       "<div>\n",
       "<style scoped>\n",
       "    .dataframe tbody tr th:only-of-type {\n",
       "        vertical-align: middle;\n",
       "    }\n",
       "\n",
       "    .dataframe tbody tr th {\n",
       "        vertical-align: top;\n",
       "    }\n",
       "\n",
       "    .dataframe thead th {\n",
       "        text-align: right;\n",
       "    }\n",
       "</style>\n",
       "<table border=\"1\" class=\"dataframe\">\n",
       "  <thead>\n",
       "    <tr style=\"text-align: right;\">\n",
       "      <th></th>\n",
       "      <th>vector</th>\n",
       "      <th>insider</th>\n",
       "      <th>id</th>\n",
       "      <th>date</th>\n",
       "      <th>user</th>\n",
       "      <th>source</th>\n",
       "      <th>action</th>\n",
       "    </tr>\n",
       "  </thead>\n",
       "  <tbody>\n",
       "    <tr>\n",
       "      <th>0</th>\n",
       "      <td>1</td>\n",
       "      <td>0</td>\n",
       "      <td>{N9X0-P3SX99UT-3623QQUN}</td>\n",
       "      <td>2010-01-02 06:49:35</td>\n",
       "      <td>KMC1934</td>\n",
       "      <td>PC-2683</td>\n",
       "      <td>Harding.Alden.Lester@dtaa.com</td>\n",
       "    </tr>\n",
       "    <tr>\n",
       "      <th>1</th>\n",
       "      <td>1</td>\n",
       "      <td>0</td>\n",
       "      <td>{F5G8-U4KL36AB-1579CZGX}</td>\n",
       "      <td>2010-01-02 06:50:35</td>\n",
       "      <td>KMC1934</td>\n",
       "      <td>PC-2683</td>\n",
       "      <td>Harding.Alden.Lester@dtaa.com</td>\n",
       "    </tr>\n",
       "    <tr>\n",
       "      <th>2</th>\n",
       "      <td>1</td>\n",
       "      <td>0</td>\n",
       "      <td>{U8D2-M5FH65BW-3939CQIC}</td>\n",
       "      <td>2010-01-02 06:53:37</td>\n",
       "      <td>KMC1934</td>\n",
       "      <td>PC-2683</td>\n",
       "      <td>Griffith.Xenos.Miles@dtaa.com</td>\n",
       "    </tr>\n",
       "    <tr>\n",
       "      <th>3</th>\n",
       "      <td>1</td>\n",
       "      <td>0</td>\n",
       "      <td>{A5X6-X3KN62LU-5816QTBZ}</td>\n",
       "      <td>2010-01-02 06:53:46</td>\n",
       "      <td>KMC1934</td>\n",
       "      <td>PC-2683</td>\n",
       "      <td>Mechelle.Nicole.Miles@dtaa.com</td>\n",
       "    </tr>\n",
       "    <tr>\n",
       "      <th>4</th>\n",
       "      <td>1</td>\n",
       "      <td>0</td>\n",
       "      <td>{Q8R5-A2WJ20NG-9108MVZX}</td>\n",
       "      <td>2010-01-02 06:54:33</td>\n",
       "      <td>KMC1934</td>\n",
       "      <td>PC-2683</td>\n",
       "      <td>Mechelle.Nicole.Miles@dtaa.com</td>\n",
       "    </tr>\n",
       "  </tbody>\n",
       "</table>\n",
       "</div>"
      ],
      "text/plain": [
       "   vector  insider                        id                date     user  \\\n",
       "0       1        0  {N9X0-P3SX99UT-3623QQUN} 2010-01-02 06:49:35  KMC1934   \n",
       "1       1        0  {F5G8-U4KL36AB-1579CZGX} 2010-01-02 06:50:35  KMC1934   \n",
       "2       1        0  {U8D2-M5FH65BW-3939CQIC} 2010-01-02 06:53:37  KMC1934   \n",
       "3       1        0  {A5X6-X3KN62LU-5816QTBZ} 2010-01-02 06:53:46  KMC1934   \n",
       "4       1        0  {Q8R5-A2WJ20NG-9108MVZX} 2010-01-02 06:54:33  KMC1934   \n",
       "\n",
       "    source                          action  \n",
       "0  PC-2683   Harding.Alden.Lester@dtaa.com  \n",
       "1  PC-2683   Harding.Alden.Lester@dtaa.com  \n",
       "2  PC-2683   Griffith.Xenos.Miles@dtaa.com  \n",
       "3  PC-2683  Mechelle.Nicole.Miles@dtaa.com  \n",
       "4  PC-2683  Mechelle.Nicole.Miles@dtaa.com  "
      ]
     },
     "execution_count": 11,
     "metadata": {},
     "output_type": "execute_result"
    }
   ],
   "source": [
    "#Make it pretty with Pandas\n",
    "pd_df_all_reduced = df_all_reduced.toPandas()\n",
    "pd_df_all_reduced.head()"
   ]
  },
  {
   "cell_type": "code",
   "execution_count": 12,
   "metadata": {},
   "outputs": [
    {
     "data": {
      "text/html": [
       "<div>\n",
       "<style scoped>\n",
       "    .dataframe tbody tr th:only-of-type {\n",
       "        vertical-align: middle;\n",
       "    }\n",
       "\n",
       "    .dataframe tbody tr th {\n",
       "        vertical-align: top;\n",
       "    }\n",
       "\n",
       "    .dataframe thead th {\n",
       "        text-align: right;\n",
       "    }\n",
       "</style>\n",
       "<table border=\"1\" class=\"dataframe\">\n",
       "  <thead>\n",
       "    <tr style=\"text-align: right;\">\n",
       "      <th></th>\n",
       "      <th>vector</th>\n",
       "      <th>insider</th>\n",
       "      <th>id</th>\n",
       "      <th>date</th>\n",
       "      <th>user</th>\n",
       "      <th>source</th>\n",
       "      <th>action</th>\n",
       "      <th>user_cat</th>\n",
       "      <th>source_cat</th>\n",
       "      <th>action_cat</th>\n",
       "    </tr>\n",
       "  </thead>\n",
       "  <tbody>\n",
       "    <tr>\n",
       "      <th>0</th>\n",
       "      <td>1</td>\n",
       "      <td>0</td>\n",
       "      <td>{N9X0-P3SX99UT-3623QQUN}</td>\n",
       "      <td>2010-01-02 06:49:35</td>\n",
       "      <td>KMC1934</td>\n",
       "      <td>PC-2683</td>\n",
       "      <td>Harding.Alden.Lester@dtaa.com</td>\n",
       "      <td>432</td>\n",
       "      <td>219</td>\n",
       "      <td>541</td>\n",
       "    </tr>\n",
       "    <tr>\n",
       "      <th>1</th>\n",
       "      <td>1</td>\n",
       "      <td>0</td>\n",
       "      <td>{F5G8-U4KL36AB-1579CZGX}</td>\n",
       "      <td>2010-01-02 06:50:35</td>\n",
       "      <td>KMC1934</td>\n",
       "      <td>PC-2683</td>\n",
       "      <td>Harding.Alden.Lester@dtaa.com</td>\n",
       "      <td>432</td>\n",
       "      <td>219</td>\n",
       "      <td>541</td>\n",
       "    </tr>\n",
       "    <tr>\n",
       "      <th>2</th>\n",
       "      <td>1</td>\n",
       "      <td>0</td>\n",
       "      <td>{U8D2-M5FH65BW-3939CQIC}</td>\n",
       "      <td>2010-01-02 06:53:37</td>\n",
       "      <td>KMC1934</td>\n",
       "      <td>PC-2683</td>\n",
       "      <td>Griffith.Xenos.Miles@dtaa.com</td>\n",
       "      <td>432</td>\n",
       "      <td>219</td>\n",
       "      <td>513</td>\n",
       "    </tr>\n",
       "    <tr>\n",
       "      <th>3</th>\n",
       "      <td>1</td>\n",
       "      <td>0</td>\n",
       "      <td>{A5X6-X3KN62LU-5816QTBZ}</td>\n",
       "      <td>2010-01-02 06:53:46</td>\n",
       "      <td>KMC1934</td>\n",
       "      <td>PC-2683</td>\n",
       "      <td>Mechelle.Nicole.Miles@dtaa.com</td>\n",
       "      <td>432</td>\n",
       "      <td>219</td>\n",
       "      <td>920</td>\n",
       "    </tr>\n",
       "    <tr>\n",
       "      <th>4</th>\n",
       "      <td>1</td>\n",
       "      <td>0</td>\n",
       "      <td>{Q8R5-A2WJ20NG-9108MVZX}</td>\n",
       "      <td>2010-01-02 06:54:33</td>\n",
       "      <td>KMC1934</td>\n",
       "      <td>PC-2683</td>\n",
       "      <td>Mechelle.Nicole.Miles@dtaa.com</td>\n",
       "      <td>432</td>\n",
       "      <td>219</td>\n",
       "      <td>920</td>\n",
       "    </tr>\n",
       "  </tbody>\n",
       "</table>\n",
       "</div>"
      ],
      "text/plain": [
       "   vector  insider                        id                date     user  \\\n",
       "0       1        0  {N9X0-P3SX99UT-3623QQUN} 2010-01-02 06:49:35  KMC1934   \n",
       "1       1        0  {F5G8-U4KL36AB-1579CZGX} 2010-01-02 06:50:35  KMC1934   \n",
       "2       1        0  {U8D2-M5FH65BW-3939CQIC} 2010-01-02 06:53:37  KMC1934   \n",
       "3       1        0  {A5X6-X3KN62LU-5816QTBZ} 2010-01-02 06:53:46  KMC1934   \n",
       "4       1        0  {Q8R5-A2WJ20NG-9108MVZX} 2010-01-02 06:54:33  KMC1934   \n",
       "\n",
       "    source                          action  user_cat  source_cat  action_cat  \n",
       "0  PC-2683   Harding.Alden.Lester@dtaa.com       432         219         541  \n",
       "1  PC-2683   Harding.Alden.Lester@dtaa.com       432         219         541  \n",
       "2  PC-2683   Griffith.Xenos.Miles@dtaa.com       432         219         513  \n",
       "3  PC-2683  Mechelle.Nicole.Miles@dtaa.com       432         219         920  \n",
       "4  PC-2683  Mechelle.Nicole.Miles@dtaa.com       432         219         920  "
      ]
     },
     "execution_count": 12,
     "metadata": {},
     "output_type": "execute_result"
    }
   ],
   "source": [
    "#Encode the remaining categorical columns in Pandas\n",
    "pd_df_all_reduced[\"user\"] = pd_df_all_reduced[\"user\"].astype('category')\n",
    "pd_df_all_reduced[\"source\"] = pd_df_all_reduced[\"source\"].astype('category')\n",
    "pd_df_all_reduced[\"action\"] = pd_df_all_reduced[\"action\"].astype('category')\n",
    "pd_df_all_reduced[\"user_cat\"] = pd_df_all_reduced[\"user\"].cat.codes\n",
    "pd_df_all_reduced[\"source_cat\"] = pd_df_all_reduced[\"source\"].cat.codes\n",
    "pd_df_all_reduced[\"action_cat\"] = pd_df_all_reduced[\"action\"].cat.codes\n",
    "pd_df_all_reduced.head()"
   ]
  },
  {
   "cell_type": "code",
   "execution_count": 13,
   "metadata": {},
   "outputs": [
    {
     "name": "stdout",
     "output_type": "stream",
     "text": [
      "<class 'pandas.core.frame.DataFrame'>\n",
      "RangeIndex: 29399 entries, 0 to 29398\n",
      "Data columns (total 10 columns):\n",
      " #   Column      Non-Null Count  Dtype         \n",
      "---  ------      --------------  -----         \n",
      " 0   vector      29399 non-null  int32         \n",
      " 1   insider     29399 non-null  int32         \n",
      " 2   id          29399 non-null  object        \n",
      " 3   date        18306 non-null  datetime64[ns]\n",
      " 4   user        29399 non-null  category      \n",
      " 5   source      29399 non-null  category      \n",
      " 6   action      25715 non-null  category      \n",
      " 7   user_cat    29399 non-null  int16         \n",
      " 8   source_cat  29399 non-null  int16         \n",
      " 9   action_cat  29399 non-null  int16         \n",
      "dtypes: category(3), datetime64[ns](1), int16(3), int32(2), object(1)\n",
      "memory usage: 1.2+ MB\n"
     ]
    }
   ],
   "source": [
    "#Check out schema\n",
    "pd_df_all_reduced.info()"
   ]
  },
  {
   "cell_type": "code",
   "execution_count": 14,
   "metadata": {},
   "outputs": [
    {
     "data": {
      "text/html": [
       "<div>\n",
       "<style scoped>\n",
       "    .dataframe tbody tr th:only-of-type {\n",
       "        vertical-align: middle;\n",
       "    }\n",
       "\n",
       "    .dataframe tbody tr th {\n",
       "        vertical-align: top;\n",
       "    }\n",
       "\n",
       "    .dataframe thead th {\n",
       "        text-align: right;\n",
       "    }\n",
       "</style>\n",
       "<table border=\"1\" class=\"dataframe\">\n",
       "  <thead>\n",
       "    <tr style=\"text-align: right;\">\n",
       "      <th></th>\n",
       "      <th>vector</th>\n",
       "      <th>insider</th>\n",
       "      <th>id</th>\n",
       "      <th>date</th>\n",
       "      <th>user</th>\n",
       "      <th>source</th>\n",
       "      <th>action</th>\n",
       "    </tr>\n",
       "  </thead>\n",
       "  <tbody>\n",
       "    <tr>\n",
       "      <th>0</th>\n",
       "      <td>1</td>\n",
       "      <td>0</td>\n",
       "      <td>{N9X0-P3SX99UT-3623QQUN}</td>\n",
       "      <td>1262414975000</td>\n",
       "      <td>432</td>\n",
       "      <td>219</td>\n",
       "      <td>541</td>\n",
       "    </tr>\n",
       "    <tr>\n",
       "      <th>1</th>\n",
       "      <td>1</td>\n",
       "      <td>0</td>\n",
       "      <td>{F5G8-U4KL36AB-1579CZGX}</td>\n",
       "      <td>1262415035000</td>\n",
       "      <td>432</td>\n",
       "      <td>219</td>\n",
       "      <td>541</td>\n",
       "    </tr>\n",
       "    <tr>\n",
       "      <th>2</th>\n",
       "      <td>1</td>\n",
       "      <td>0</td>\n",
       "      <td>{U8D2-M5FH65BW-3939CQIC}</td>\n",
       "      <td>1262415217000</td>\n",
       "      <td>432</td>\n",
       "      <td>219</td>\n",
       "      <td>513</td>\n",
       "    </tr>\n",
       "    <tr>\n",
       "      <th>3</th>\n",
       "      <td>1</td>\n",
       "      <td>0</td>\n",
       "      <td>{A5X6-X3KN62LU-5816QTBZ}</td>\n",
       "      <td>1262415226000</td>\n",
       "      <td>432</td>\n",
       "      <td>219</td>\n",
       "      <td>920</td>\n",
       "    </tr>\n",
       "    <tr>\n",
       "      <th>4</th>\n",
       "      <td>1</td>\n",
       "      <td>0</td>\n",
       "      <td>{Q8R5-A2WJ20NG-9108MVZX}</td>\n",
       "      <td>1262415273000</td>\n",
       "      <td>432</td>\n",
       "      <td>219</td>\n",
       "      <td>920</td>\n",
       "    </tr>\n",
       "  </tbody>\n",
       "</table>\n",
       "</div>"
      ],
      "text/plain": [
       "   vector  insider                        id           date  user  source  \\\n",
       "0       1        0  {N9X0-P3SX99UT-3623QQUN}  1262414975000   432     219   \n",
       "1       1        0  {F5G8-U4KL36AB-1579CZGX}  1262415035000   432     219   \n",
       "2       1        0  {U8D2-M5FH65BW-3939CQIC}  1262415217000   432     219   \n",
       "3       1        0  {A5X6-X3KN62LU-5816QTBZ}  1262415226000   432     219   \n",
       "4       1        0  {Q8R5-A2WJ20NG-9108MVZX}  1262415273000   432     219   \n",
       "\n",
       "   action  \n",
       "0     541  \n",
       "1     541  \n",
       "2     513  \n",
       "3     920  \n",
       "4     920  "
      ]
     },
     "execution_count": 14,
     "metadata": {},
     "output_type": "execute_result"
    }
   ],
   "source": [
    "#Replace original columns with the categorical ones and convert timestamp to epoch.\n",
    "del pd_df_all_reduced[\"user\"]\n",
    "del pd_df_all_reduced[\"source\"]\n",
    "del pd_df_all_reduced[\"action\"]\n",
    "pd_df_all_reduced.rename(columns={\"user_cat\": \"user\", \"source_cat\": \"source\", \"action_cat\": \"action\"}, inplace=True)\n",
    "pd_df_all_reduced['date'] = pd.to_datetime(pd_df_all_reduced['date']).values.astype(np.int64) // 10 ** 6\n",
    "pd_df_all_reduced.head()"
   ]
  },
  {
   "cell_type": "code",
   "execution_count": 15,
   "metadata": {},
   "outputs": [
    {
     "name": "stdout",
     "output_type": "stream",
     "text": [
      "<class 'pandas.core.frame.DataFrame'>\n",
      "RangeIndex: 29399 entries, 0 to 29398\n",
      "Data columns (total 7 columns):\n",
      " #   Column   Non-Null Count  Dtype \n",
      "---  ------   --------------  ----- \n",
      " 0   vector   29399 non-null  int32 \n",
      " 1   insider  29399 non-null  int32 \n",
      " 2   id       29399 non-null  object\n",
      " 3   date     29399 non-null  int64 \n",
      " 4   user     29399 non-null  int16 \n",
      " 5   source   29399 non-null  int16 \n",
      " 6   action   29399 non-null  int16 \n",
      "dtypes: int16(3), int32(2), int64(1), object(1)\n",
      "memory usage: 861.4+ KB\n"
     ]
    }
   ],
   "source": [
    "#Shorten the name for simplicity and check out the schema again\n",
    "df = pd_df_all_reduced\n",
    "df.info()"
   ]
  },
  {
   "cell_type": "markdown",
   "metadata": {},
   "source": [
    "## B. Deep Learning with Tensorflow"
   ]
  },
  {
   "cell_type": "code",
   "execution_count": 16,
   "metadata": {},
   "outputs": [
    {
     "name": "stdout",
     "output_type": "stream",
     "text": [
      "18815 train examples\n",
      "4704 validation examples\n",
      "5880 test examples\n"
     ]
    }
   ],
   "source": [
    "#Split the data into train and test and observe the breakdown.\n",
    "train, test = train_test_split(df, test_size=0.2)\n",
    "train, val = train_test_split(train, test_size=0.2)\n",
    "print(len(train), 'train examples')\n",
    "print(len(val), 'validation examples')\n",
    "print(len(test), 'test examples')"
   ]
  },
  {
   "cell_type": "code",
   "execution_count": 17,
   "metadata": {},
   "outputs": [],
   "source": [
    "#Create custom function to prepare data for Tensorflow\n",
    "def df_to_dataset(df, shuffle=True, batch_size=32):\n",
    "  df = df.copy()\n",
    "  labels = df.pop('insider')\n",
    "  ds = tf.data.Dataset.from_tensor_slices((dict(df), labels))\n",
    "  if shuffle:\n",
    "    ds = ds.shuffle(buffer_size=len(df))\n",
    "  ds = ds.batch(batch_size)\n",
    "  return ds"
   ]
  },
  {
   "cell_type": "code",
   "execution_count": 18,
   "metadata": {},
   "outputs": [
    {
     "name": "stdout",
     "output_type": "stream",
     "text": [
      "Epoch 1/5\n",
      "588/588 [==============================] - 3s 5ms/step - loss: 10453292032.0000 - accuracy: 0.5217 - val_loss: 10630901760.0000 - val_accuracy: 0.4109\n",
      "Epoch 2/5\n",
      "588/588 [==============================] - 3s 4ms/step - loss: 7694547456.0000 - accuracy: 0.5203 - val_loss: 3853362176.0000 - val_accuracy: 0.4109\n",
      "Epoch 3/5\n",
      "588/588 [==============================] - 3s 4ms/step - loss: 5481763840.0000 - accuracy: 0.5228 - val_loss: 5067542016.0000 - val_accuracy: 0.5891\n",
      "Epoch 4/5\n",
      "588/588 [==============================] - 3s 5ms/step - loss: 5272040960.0000 - accuracy: 0.5159 - val_loss: 11078831104.0000 - val_accuracy: 0.5891\n",
      "Epoch 5/5\n",
      "588/588 [==============================] - 3s 5ms/step - loss: 3663411456.0000 - accuracy: 0.5178 - val_loss: 2833503744.0000 - val_accuracy: 0.4109\n",
      "184/184 [==============================] - 1s 4ms/step - loss: 2867412736.0000 - accuracy: 0.4034\n",
      "Accuracy 0.40340137481689453\n"
     ]
    }
   ],
   "source": [
    "#Slect Columns\n",
    "feature_columns = []\n",
    "for header in [\"vector\", \"date\", \"user\", \"source\", \"action\"]:\n",
    "    feature_columns.append(feature_column.numeric_column(header))\n",
    "#Create feature layer\n",
    "feature_layer = tf.keras.layers.DenseFeatures(feature_columns)\n",
    "#Set batch size pipeline\n",
    "batch_size = 32\n",
    "train_ds = df_to_dataset(train, batch_size=batch_size)\n",
    "val_ds = df_to_dataset(val, shuffle=False, batch_size=batch_size)\n",
    "test_ds = df_to_dataset(test, shuffle=False, batch_size=batch_size)\n",
    "#Create compile and train model\n",
    "model = tf.keras.Sequential([\n",
    "    feature_layer,layers.Dense(128, activation='relu'),layers.Dense(128, activation='relu'),layers.Dense(1)\n",
    "])\n",
    "model.compile(optimizer='adam',loss=tf.keras.losses.BinaryCrossentropy(from_logits=True),metrics=['accuracy'])\n",
    "model.fit(train_ds,validation_data=val_ds,epochs=5)\n",
    "loss, accuracy = model.evaluate(test_ds)\n",
    "print(\"Accuracy\", accuracy)"
   ]
  },
  {
   "cell_type": "markdown",
   "metadata": {},
   "source": [
    "As we can see the result is not great, however thos dataset is synthetic and contains a lot of random data. I will try some other algorithms."
   ]
  },
  {
   "cell_type": "markdown",
   "metadata": {},
   "source": [
    "## C. I am now going to see if how other algorithms perform on my dataframe and plot my resulting ROC Curves."
   ]
  },
  {
   "cell_type": "code",
   "execution_count": 19,
   "metadata": {},
   "outputs": [],
   "source": [
    "#Swap first and second column and drop id object\n",
    "df = df[['insider', 'vector', 'date', 'user', 'source', 'action']]"
   ]
  },
  {
   "cell_type": "code",
   "execution_count": 20,
   "metadata": {},
   "outputs": [],
   "source": [
    "#Assign label and data\n",
    "y = df.iloc[:,0]\n",
    "X = df.iloc[:,1:]"
   ]
  },
  {
   "cell_type": "code",
   "execution_count": 21,
   "metadata": {},
   "outputs": [],
   "source": [
    "#Split data to test and train\n",
    "X_train, X_test, y_train, y_test = train_test_split(X, y, test_size = 0.3)"
   ]
  },
  {
   "cell_type": "code",
   "execution_count": 22,
   "metadata": {},
   "outputs": [],
   "source": [
    "#Import Matplotlib, Seaborn and warnings.\n",
    "%matplotlib inline\n",
    "import matplotlib.pyplot as plt\n",
    "import seaborn as sns\n",
    "import warnings"
   ]
  },
  {
   "cell_type": "code",
   "execution_count": 23,
   "metadata": {},
   "outputs": [],
   "source": [
    "sns.set()\n",
    "warnings.filterwarnings('ignore')"
   ]
  },
  {
   "cell_type": "code",
   "execution_count": 24,
   "metadata": {},
   "outputs": [],
   "source": [
    "#Import necessary classifiers and ROC\n",
    "from sklearn.linear_model import LogisticRegression\n",
    "from sklearn.naive_bayes import GaussianNB\n",
    "from sklearn.neighbors import KNeighborsClassifier\n",
    "from sklearn.tree import DecisionTreeClassifier\n",
    "from sklearn.ensemble import RandomForestClassifier\n",
    "from sklearn.metrics import roc_curve, roc_auc_score"
   ]
  },
  {
   "cell_type": "code",
   "execution_count": 25,
   "metadata": {},
   "outputs": [],
   "source": [
    "#Create a list of classifiers to plot\n",
    "classifiers = [LogisticRegression(random_state=1234), \n",
    "               GaussianNB(), \n",
    "               KNeighborsClassifier(), \n",
    "               DecisionTreeClassifier(random_state=1234),\n",
    "               RandomForestClassifier(random_state=1234)]"
   ]
  },
  {
   "cell_type": "code",
   "execution_count": 26,
   "metadata": {},
   "outputs": [],
   "source": [
    "# Define a result table as a DataFrame\n",
    "result_table = pd.DataFrame(columns=['classifiers', 'fpr','tpr','auc'])\n",
    "\n",
    "# Train the models and record the results\n",
    "for cls in classifiers:\n",
    "    model = cls.fit(X_train, y_train)\n",
    "    yproba = model.predict_proba(X_test)[::,1]   \n",
    "    fpr, tpr, _ = roc_curve(y_test,  yproba)\n",
    "    auc = roc_auc_score(y_test, yproba)    \n",
    "    result_table = result_table.append({'classifiers':cls.__class__.__name__,\n",
    "                                        'fpr':fpr, \n",
    "                                        'tpr':tpr, \n",
    "                                        'auc':auc}, ignore_index=True)\n",
    "\n",
    "# Set name of the classifiers as index labels\n",
    "result_table.set_index('classifiers', inplace=True)"
   ]
  },
  {
   "cell_type": "code",
   "execution_count": 27,
   "metadata": {},
   "outputs": [
    {
     "data": {
      "image/png": "[encoded data removed]",
      "text/plain": [
       "<Figure size 576x432 with 1 Axes>"
      ]
     },
     "metadata": {},
     "output_type": "display_data"
    }
   ],
   "source": [
    "#Plot ROC Curves.\n",
    "fig = plt.figure(figsize=(8,6))\n",
    "\n",
    "for i in result_table.index:\n",
    "    plt.plot(result_table.loc[i]['fpr'], \n",
    "             result_table.loc[i]['tpr'], \n",
    "             label=\"{}, AUC={:.3f}\".format(i, result_table.loc[i]['auc']))\n",
    "    \n",
    "plt.plot([0,1], [0,1], color='orange', linestyle='--')\n",
    "\n",
    "plt.xticks(np.arange(0.0, 1.1, step=0.1))\n",
    "plt.xlabel(\"Flase Positive Rate\", fontsize=15)\n",
    "\n",
    "plt.yticks(np.arange(0.0, 1.1, step=0.1))\n",
    "plt.ylabel(\"True Positive Rate\", fontsize=15)\n",
    "\n",
    "plt.title('ROC Curve Analysis', fontweight='bold', fontsize=15)\n",
    "plt.legend(prop={'size':13}, loc='lower right')\n",
    "\n",
    "plt.show()"
   ]
  },
  {
   "cell_type": "markdown",
   "metadata": {},
   "source": [
    "As we can see Random Forest did the best though it seems to overfit. I will next look at removing my labels and testing some Unsupervised Learning methods on my data."
   ]
  }
 ],
 "metadata": {
  "kernelspec": {
   "display_name": "py36",
   "language": "python",
   "name": "py36"
  },
  "language_info": {
   "codemirror_mode": {
    "name": "ipython",
    "version": 3
   },
   "file_extension": ".py",
   "mimetype": "text/x-python",
   "name": "python",
   "nbconvert_exporter": "python",
   "pygments_lexer": "ipython3",
   "version": "3.6.10"
  }
 },
 "nbformat": 4,
 "nbformat_minor": 4
}
